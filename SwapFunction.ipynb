{
 "cells": [
  {
   "cell_type": "code",
   "execution_count": null,
   "metadata": {},
   "outputs": [],
   "source": [
    "sentence= \"aWesome IS Coding 2\""
   ]
  },
  {
   "cell_type": "code",
   "execution_count": null,
   "metadata": {},
   "outputs": [],
   "source": [
    "def reverse_words_order_and_swap_cases(sentence):\n",
    "    # Write your code here\n",
    "    harflist=[]\n",
    "    for i in range(len(sentence)):\n",
    "        if (sentence[i].isupper() ):\n",
    "            harflist.append(sentence[i].lower())\n",
    "        \n",
    "        elif (sentence[i].islower() ):\n",
    "            harflist.append(sentence[i].upper())\n",
    "        elif(sentence[i]==' '):\n",
    "            harflist.append(' ')\n",
    "        elif(sentence[i].isnumeric()==True):\n",
    "            harflist.append(sentence[i])\n",
    "        else:\n",
    "            harflist.append(sentence[i])\n",
    "    i+=1\n",
    "    return(\"\".join(harflist))\n",
    "    "
   ]
  },
  {
   "cell_type": "code",
   "execution_count": null,
   "metadata": {},
   "outputs": [],
   "source": [
    "reverse_words_order_and_swap_cases(sentence)"
   ]
  },
  {
   "cell_type": "code",
   "execution_count": null,
   "metadata": {},
   "outputs": [],
   "source": []
  }
 ],
 "metadata": {
  "kernelspec": {
   "display_name": "Python 3",
   "language": "python",
   "name": "python3"
  },
  "language_info": {
   "codemirror_mode": {
    "name": "ipython",
    "version": 3
   },
   "file_extension": ".py",
   "mimetype": "text/x-python",
   "name": "python",
   "nbconvert_exporter": "python",
   "pygments_lexer": "ipython3",
   "version": "3.7.4"
  }
 },
 "nbformat": 4,
 "nbformat_minor": 2
}
