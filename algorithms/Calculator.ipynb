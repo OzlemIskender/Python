{
 "cells": [
  {
   "cell_type": "code",
   "execution_count": null,
   "metadata": {},
   "outputs": [
    {
     "name": "stdout",
     "output_type": "stream",
     "text": [
      "Enter the first number\n",
      "Please enter correctly\n",
      "Enter the first numberşi\n",
      "Please enter correctly\n",
      "Enter the first number4\n",
      "Enter the second number4\n",
      "Enter the operation: +-*//\n",
      "4 / 4 = 1.0\n"
     ]
    }
   ],
   "source": [
    "def calculate(a,b,operation):\n",
    "    if operation not in \"+-*/\":\n",
    "        return \"Please choose one of these operations\"\n",
    "    if operation == \"+\":\n",
    "        return(str(a)+\" + \"+str(b)+\" = \" +  str(a+b))\n",
    "    elif operation == \"-\":\n",
    "        return(str(a)+\" - \"+str(b)+\" = \" +  str(a-b))\n",
    "    elif operation == \"*\":\n",
    "        return(str(a)+\" * \"+str(b)+\" = \" +  str(a*b))\n",
    "    elif operation == \"/\":\n",
    "        return(str(a)+\" / \"+str(b)+\" = \" +  str(a/b))\n",
    "while True:\n",
    "    try:\n",
    "        a=int(input(\"Enter the first number\"))\n",
    "        b=int(input(\"Enter the second number\"))\n",
    "        operation=input(\"Enter the operation: +-*/\")  \n",
    "        print(calculate(a,b,operation))\n",
    "    except:\n",
    "        print(\"Please enter correctly\")\n"
   ]
  }
 ],
 "metadata": {
  "kernelspec": {
   "display_name": "Python 3",
   "language": "python",
   "name": "python3"
  },
  "language_info": {
   "codemirror_mode": {
    "name": "ipython",
    "version": 3
   },
   "file_extension": ".py",
   "mimetype": "text/x-python",
   "name": "python",
   "nbconvert_exporter": "python",
   "pygments_lexer": "ipython3",
   "version": "3.7.4"
  }
 },
 "nbformat": 4,
 "nbformat_minor": 4
}
